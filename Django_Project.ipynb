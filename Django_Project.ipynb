{
 "cells": [
  {
   "cell_type": "markdown",
   "id": "2fc39921",
   "metadata": {},
   "source": [
    "# Django\n",
    "\n",
    "## Primeros pasos\n",
    "\n",
    "Lo primero quedebemos verificar (despues de haber instalado python) es que version de pip tenemos en nuestra máquina ya que es con esta herramienta que instalaremos lo necesario para preparar nuestro entorno:"
   ]
  },
  {
   "cell_type": "code",
   "execution_count": 6,
   "id": "227356aa",
   "metadata": {},
   "outputs": [
    {
     "name": "stdout",
     "output_type": "stream",
     "text": [
      "pip 20.0.2 from /usr/lib/python3/dist-packages/pip (python 3.8)\n",
      "Note: you may need to restart the kernel to use updated packages.\n"
     ]
    }
   ],
   "source": [
    "pip --version"
   ]
  },
  {
   "cell_type": "markdown",
   "id": "92d9d784",
   "metadata": {},
   "source": [
    "Si no la tiene instalada, la instalamos con la siguiente sentencia:\n",
    "\n",
    "sudo apt-get install python3-pip\n",
    "\n",
    "Listo. En mi caso, he creado una carpeta llamada *django_project* en la cual voy a tener mi proyecto guardado. Tambien he creado un repositorio en github con este nombre https://github.com/Frank-Grijalba/django_project\n",
    "\n",
    "Ahora necesitamos un entorno virtual llamado virtualenv el cual crea un entorno aislado con tu propia instalación de directorios al cual tu usuario tiene aceso total. Esto te permite instalar una versión personalizada de Python y sus diferentes paquetes, los cuales no están conectados a la instalación global del servidor.\n",
    "\n",
    "instalaremos nuestro entorno virtual dentro de nuestra carpeta del proyecto y ejecutamos la siguiente sentencia:\n"
   ]
  },
  {
   "cell_type": "code",
   "execution_count": 8,
   "id": "5a08be6e",
   "metadata": {},
   "outputs": [
    {
     "name": "stdout",
     "output_type": "stream",
     "text": [
      "Requirement already satisfied: virtualenv in /usr/lib/python3/dist-packages (20.0.17)\n",
      "Note: you may need to restart the kernel to use updated packages.\n"
     ]
    }
   ],
   "source": [
    "pip install virtualenv"
   ]
  },
  {
   "cell_type": "markdown",
   "id": "661d6491",
   "metadata": {},
   "source": [
    "Una vez instalada, procedemos a instalar nuestro entorno virtual que se llamará **env** en la carpeta del proyecto."
   ]
  },
  {
   "cell_type": "code",
   "execution_count": null,
   "id": "e21c5387",
   "metadata": {},
   "outputs": [],
   "source": [
    "virtual env"
   ]
  },
  {
   "cell_type": "markdown",
   "id": "64e0fff5",
   "metadata": {},
   "source": [
    "Si no generó ninguna salida, significa que se ha ejecutado nuestro entorno virtual de manera satisfactoria y a su vez ha creado una carpeta llamada **env** y dentro de esta hay  una subcarpeta llamada *bin*, aqui hay un archivo clave en todo este proceso, *activate*, debemos ejecutar su activación o algo asi como un start de ese entorno virtual.\n",
    "\n",
    "Desde la carpeta principal, ejecutaremos:"
   ]
  },
  {
   "cell_type": "code",
   "execution_count": null,
   "id": "4fbc7c5f",
   "metadata": {},
   "outputs": [],
   "source": [
    "source env/bin/activate"
   ]
  }
 ],
 "metadata": {
  "kernelspec": {
   "display_name": "Python 3 (ipykernel)",
   "language": "python",
   "name": "python3"
  },
  "language_info": {
   "codemirror_mode": {
    "name": "ipython",
    "version": 3
   },
   "file_extension": ".py",
   "mimetype": "text/x-python",
   "name": "python",
   "nbconvert_exporter": "python",
   "pygments_lexer": "ipython3",
   "version": "3.8.10"
  }
 },
 "nbformat": 4,
 "nbformat_minor": 5
}
