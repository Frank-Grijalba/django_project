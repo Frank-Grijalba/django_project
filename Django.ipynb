{
 "cells": [
  {
   "cell_type": "markdown",
   "id": "4afc0d47",
   "metadata": {},
   "source": [
    "# Django\n",
    "\n",
    "## Primeros pasos\n",
    "\n",
    "Lo primero quedebemos verificar (despues de haber instalado python) es que version de pip tenemos en nuestra máquina ya que es con esta herramienta que instalaremos lo necesario para preparar nuestro entorno:"
   ]
  },
  {
   "cell_type": "code",
   "execution_count": 6,
   "id": "69be2101",
   "metadata": {},
   "outputs": [
    {
     "name": "stdout",
     "output_type": "stream",
     "text": [
      "pip 20.0.2 from /usr/lib/python3/dist-packages/pip (python 3.8)\n",
      "Note: you may need to restart the kernel to use updated packages.\n"
     ]
    }
   ],
   "source": [
    "pip --version"
   ]
  },
  {
   "cell_type": "markdown",
   "id": "bc4c1684",
   "metadata": {},
   "source": [
    "Si no la tiene instalada, la instalamos con la siguiente sentencia:\n",
    "\n",
    "sudo apt-get install python3-pip\n",
    "\n",
    "Listo. En mi caso, he creado una carpeta llamada *django_project* en la cual voy a tener mi proyecto guardado. Tambien he creado un repositorio en github con este nombre https://github.com/Frank-Grijalba/django_project\n",
    "\n",
    "Ahora necesitamos un entorno instalaremos nuestro entorno virtual dentro de nuestra carpeta (con cd) y ejecutamos la siguiente sentencia:\n"
   ]
  },
  {
   "cell_type": "code",
   "execution_count": 8,
   "id": "521afcb6",
   "metadata": {},
   "outputs": [
    {
     "name": "stdout",
     "output_type": "stream",
     "text": [
      "Requirement already satisfied: virtualenv in /usr/lib/python3/dist-packages (20.0.17)\n",
      "Note: you may need to restart the kernel to use updated packages.\n"
     ]
    }
   ],
   "source": [
    "pip install virtualenv"
   ]
  },
  {
   "cell_type": "code",
   "execution_count": null,
   "id": "b3649ea7",
   "metadata": {},
   "outputs": [],
   "source": [
    "Una vez instalada, procedemos a activar nuestro entorno virtual "
   ]
  }
 ],
 "metadata": {
  "kernelspec": {
   "display_name": "Python 3 (ipykernel)",
   "language": "python",
   "name": "python3"
  },
  "language_info": {
   "codemirror_mode": {
    "name": "ipython",
    "version": 3
   },
   "file_extension": ".py",
   "mimetype": "text/x-python",
   "name": "python",
   "nbconvert_exporter": "python",
   "pygments_lexer": "ipython3",
   "version": "3.8.10"
  }
 },
 "nbformat": 4,
 "nbformat_minor": 5
}
